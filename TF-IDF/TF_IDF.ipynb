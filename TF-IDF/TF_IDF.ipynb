{
  "cells": [
    {
      "cell_type": "markdown",
      "metadata": {
        "id": "zWf_yfjSNvNc"
      },
      "source": [
        "#### 1.Import thư viện"
      ]
    },
    {
      "cell_type": "code",
      "execution_count": 2,
      "metadata": {
        "id": "brSJ2mHGNvNh"
      },
      "outputs": [],
      "source": [
        "from sklearn.feature_extraction.text import TfidfVectorizer\n",
        "from sklearn.metrics.pairwise import cosine_similarity\n",
        "import pandas as pd\n",
        "import numpy as np"
      ]
    },
    {
      "cell_type": "code",
      "source": [
        "!gdown https://drive.google.com/uc?id=1ZAC3mLjoWprkvRTR61xmtBn9OseorpCh&export=download"
      ],
      "metadata": {
        "colab": {
          "base_uri": "https://localhost:8080/"
        },
        "id": "0fiMwB1CDvv3",
        "outputId": "c10d5abe-43e8-43ec-9679-567e1e01d28b"
      },
      "execution_count": 3,
      "outputs": [
        {
          "output_type": "stream",
          "name": "stdout",
          "text": [
            "Downloading...\n",
            "From: https://drive.google.com/uc?id=1ZAC3mLjoWprkvRTR61xmtBn9OseorpCh\n",
            "To: /content/newpaper.csv\n",
            "\r  0% 0.00/1.29M [00:00<?, ?B/s]\r100% 1.29M/1.29M [00:00<00:00, 133MB/s]\n"
          ]
        }
      ]
    },
    {
      "cell_type": "markdown",
      "metadata": {
        "id": "x4zApIO0NvNj"
      },
      "source": [
        "#### 2. Đọc dữ liệu"
      ]
    },
    {
      "cell_type": "code",
      "execution_count": 5,
      "metadata": {
        "id": "Ikt8auWWNvNj"
      },
      "outputs": [],
      "source": [
        "data = pd.read_csv('/content/newpaper.csv')\n",
        "base_document = data['Document'][0]\n",
        "documents = data['Document'][:]"
      ]
    },
    {
      "cell_type": "code",
      "source": [
        "data = pd.read_excel('/content/Book1.xlsx')\n",
        "base_document = data['Document'][0]\n",
        "documents = data['Document'][:]"
      ],
      "metadata": {
        "id": "oIgNKoAShd1b"
      },
      "execution_count": null,
      "outputs": []
    },
    {
      "cell_type": "markdown",
      "metadata": {
        "id": "FLAo1UJKNvNk"
      },
      "source": [
        "#### 3. Thực hiện bài toán"
      ]
    },
    {
      "cell_type": "code",
      "execution_count": 6,
      "metadata": {
        "id": "DqYJloKeNvNk",
        "colab": {
          "base_uri": "https://localhost:8080/"
        },
        "outputId": "01c3a15c-d6b4-449b-c15a-01bb9d4b9f23"
      },
      "outputs": [
        {
          "output_type": "execute_result",
          "data": {
            "text/plain": [
              "[{'index': 0, 'score': 0.9999999999999997},\n",
              " {'index': 2, 'score': 0.6161502457763214},\n",
              " {'index': 4, 'score': 0.4689388835390306},\n",
              " {'index': 66, 'score': 0.399889334476014},\n",
              " {'index': 75, 'score': 0.39723741247463995},\n",
              " {'index': 5, 'score': 0.3749375789298919},\n",
              " {'index': 45, 'score': 0.36159747005102566},\n",
              " {'index': 17, 'score': 0.3116270008828038},\n",
              " {'index': 43, 'score': 0.2967623798218348},\n",
              " {'index': 50, 'score': 0.2747055617311889},\n",
              " {'index': 16, 'score': 0.26108894333791527},\n",
              " {'index': 258, 'score': 0.26001521510791015},\n",
              " {'index': 266, 'score': 0.25912581615578006},\n",
              " {'index': 283, 'score': 0.2585642008376524},\n",
              " {'index': 254, 'score': 0.25428589967596243},\n",
              " {'index': 199, 'score': 0.2528069691885653},\n",
              " {'index': 298, 'score': 0.2503786710521856},\n",
              " {'index': 46, 'score': 0.2490455690665899},\n",
              " {'index': 250, 'score': 0.24805581810183772},\n",
              " {'index': 124, 'score': 0.2463921780838028},\n",
              " {'index': 132, 'score': 0.24015412691903704},\n",
              " {'index': 57, 'score': 0.23828747347824644},\n",
              " {'index': 39, 'score': 0.23721239224729923},\n",
              " {'index': 26, 'score': 0.23694236020986695},\n",
              " {'index': 212, 'score': 0.22696184606523193},\n",
              " {'index': 89, 'score': 0.2262769756347324},\n",
              " {'index': 243, 'score': 0.22577559814880008},\n",
              " {'index': 216, 'score': 0.22048878330082444},\n",
              " {'index': 234, 'score': 0.21968737030888813},\n",
              " {'index': 229, 'score': 0.2195107699861238},\n",
              " {'index': 72, 'score': 0.21738689482908774},\n",
              " {'index': 90, 'score': 0.2157840748672417},\n",
              " {'index': 167, 'score': 0.2150549111971685},\n",
              " {'index': 265, 'score': 0.21456161949181116},\n",
              " {'index': 83, 'score': 0.21129514608497602},\n",
              " {'index': 240, 'score': 0.21035488520267023},\n",
              " {'index': 125, 'score': 0.20601624082219552},\n",
              " {'index': 259, 'score': 0.20525723918231026},\n",
              " {'index': 23, 'score': 0.20411906523198964},\n",
              " {'index': 217, 'score': 0.20221242875157522},\n",
              " {'index': 88, 'score': 0.2015229762146603},\n",
              " {'index': 230, 'score': 0.20013497392450486},\n",
              " {'index': 8, 'score': 0.1991848391064539},\n",
              " {'index': 86, 'score': 0.1991848391064539},\n",
              " {'index': 252, 'score': 0.1987877418658183},\n",
              " {'index': 218, 'score': 0.1967259600829091},\n",
              " {'index': 239, 'score': 0.19566358472463982},\n",
              " {'index': 175, 'score': 0.1947044108203912},\n",
              " {'index': 67, 'score': 0.19238024455433836},\n",
              " {'index': 41, 'score': 0.1885409156698337},\n",
              " {'index': 158, 'score': 0.18815156260033006},\n",
              " {'index': 244, 'score': 0.1867418415332453},\n",
              " {'index': 237, 'score': 0.18444655434260518},\n",
              " {'index': 226, 'score': 0.1839944176932079},\n",
              " {'index': 80, 'score': 0.18196292173960452},\n",
              " {'index': 55, 'score': 0.18135584675349997},\n",
              " {'index': 211, 'score': 0.17952335033071726},\n",
              " {'index': 120, 'score': 0.17782296471748865},\n",
              " {'index': 165, 'score': 0.177301852341547},\n",
              " {'index': 12, 'score': 0.17671579221320488},\n",
              " {'index': 7, 'score': 0.17640500489151476},\n",
              " {'index': 1, 'score': 0.17598917602068334},\n",
              " {'index': 35, 'score': 0.17584971820106565},\n",
              " {'index': 242, 'score': 0.1753818041240984},\n",
              " {'index': 193, 'score': 0.17482364092732364},\n",
              " {'index': 138, 'score': 0.17454060081900488},\n",
              " {'index': 232, 'score': 0.17288663734064347},\n",
              " {'index': 262, 'score': 0.1717194029239804},\n",
              " {'index': 282, 'score': 0.17163508647660267},\n",
              " {'index': 300, 'score': 0.17058076689028942},\n",
              " {'index': 253, 'score': 0.1705073681167033},\n",
              " {'index': 263, 'score': 0.16950811158162},\n",
              " {'index': 82, 'score': 0.1681671400214562},\n",
              " {'index': 274, 'score': 0.16798279171791397},\n",
              " {'index': 115, 'score': 0.16793235623343825},\n",
              " {'index': 36, 'score': 0.1676400994182939},\n",
              " {'index': 63, 'score': 0.1670715823957505},\n",
              " {'index': 255, 'score': 0.16506478680264616},\n",
              " {'index': 93, 'score': 0.1649041360364166},\n",
              " {'index': 40, 'score': 0.16409926208771322},\n",
              " {'index': 79, 'score': 0.16393179849279432},\n",
              " {'index': 228, 'score': 0.16121982102090376},\n",
              " {'index': 219, 'score': 0.16113368196607356},\n",
              " {'index': 292, 'score': 0.16033635431480925},\n",
              " {'index': 223, 'score': 0.1602917748067727},\n",
              " {'index': 203, 'score': 0.1597591801176591},\n",
              " {'index': 231, 'score': 0.15952076418445119},\n",
              " {'index': 293, 'score': 0.15893741442021456},\n",
              " {'index': 20, 'score': 0.15852128754912903},\n",
              " {'index': 121, 'score': 0.15762356846605569},\n",
              " {'index': 87, 'score': 0.15707714735217787},\n",
              " {'index': 241, 'score': 0.15668908170891965},\n",
              " {'index': 37, 'score': 0.15655346528640587},\n",
              " {'index': 42, 'score': 0.15567923959532626},\n",
              " {'index': 71, 'score': 0.15532813360173084},\n",
              " {'index': 214, 'score': 0.15521847169691627},\n",
              " {'index': 210, 'score': 0.15474902862776166},\n",
              " {'index': 233, 'score': 0.15462872653471738},\n",
              " {'index': 92, 'score': 0.15437186708044845},\n",
              " {'index': 51, 'score': 0.15221863900653976},\n",
              " {'index': 73, 'score': 0.1515368910571105},\n",
              " {'index': 220, 'score': 0.1509281991802487},\n",
              " {'index': 163, 'score': 0.15028184215792337},\n",
              " {'index': 251, 'score': 0.15017094471145473},\n",
              " {'index': 76, 'score': 0.15003605330778344},\n",
              " {'index': 276, 'score': 0.14978446863420794},\n",
              " {'index': 62, 'score': 0.14915655701361683},\n",
              " {'index': 227, 'score': 0.14813158866536255},\n",
              " {'index': 289, 'score': 0.14721822622783964},\n",
              " {'index': 284, 'score': 0.14518516672468754},\n",
              " {'index': 52, 'score': 0.1448034195021827},\n",
              " {'index': 245, 'score': 0.14431733618890089},\n",
              " {'index': 95, 'score': 0.14387661655746906},\n",
              " {'index': 118, 'score': 0.14309894634766962},\n",
              " {'index': 144, 'score': 0.1426875234820492},\n",
              " {'index': 299, 'score': 0.1424924942587085},\n",
              " {'index': 38, 'score': 0.14164729901920547},\n",
              " {'index': 143, 'score': 0.14040874315778476},\n",
              " {'index': 149, 'score': 0.1400767641499161},\n",
              " {'index': 150, 'score': 0.1400767641499161},\n",
              " {'index': 32, 'score': 0.13970373574289877},\n",
              " {'index': 65, 'score': 0.13957373173518342},\n",
              " {'index': 127, 'score': 0.13943792811824687},\n",
              " {'index': 225, 'score': 0.1381151729511914},\n",
              " {'index': 128, 'score': 0.13785170879168088},\n",
              " {'index': 152, 'score': 0.13696293648005603},\n",
              " {'index': 204, 'score': 0.1356773034785647},\n",
              " {'index': 78, 'score': 0.13541339552225334},\n",
              " {'index': 290, 'score': 0.1349526432335516},\n",
              " {'index': 157, 'score': 0.13435525571236645},\n",
              " {'index': 81, 'score': 0.13370047581249545},\n",
              " {'index': 64, 'score': 0.1335259304791169},\n",
              " {'index': 9, 'score': 0.13318256401137207},\n",
              " {'index': 168, 'score': 0.13284872840761022},\n",
              " {'index': 18, 'score': 0.13275963794030105},\n",
              " {'index': 96, 'score': 0.1325472683455092},\n",
              " {'index': 134, 'score': 0.13169338410167933},\n",
              " {'index': 172, 'score': 0.1316284362219059},\n",
              " {'index': 202, 'score': 0.1314900711105319},\n",
              " {'index': 44, 'score': 0.131381726668002},\n",
              " {'index': 29, 'score': 0.13085394060765265},\n",
              " {'index': 184, 'score': 0.1301272184088726},\n",
              " {'index': 6, 'score': 0.12993451153923463},\n",
              " {'index': 187, 'score': 0.12976793149310864},\n",
              " {'index': 235, 'score': 0.1295830683448043},\n",
              " {'index': 145, 'score': 0.129494850051557},\n",
              " {'index': 213, 'score': 0.12872867228721643},\n",
              " {'index': 280, 'score': 0.12792407414061138},\n",
              " {'index': 129, 'score': 0.1274962828730038},\n",
              " {'index': 281, 'score': 0.1272358573580089},\n",
              " {'index': 198, 'score': 0.12688549004506292},\n",
              " {'index': 77, 'score': 0.1263968124159204},\n",
              " {'index': 84, 'score': 0.1262233657013149},\n",
              " {'index': 179, 'score': 0.12587851791517327},\n",
              " {'index': 222, 'score': 0.12521124257841518},\n",
              " {'index': 19, 'score': 0.12515664676183336},\n",
              " {'index': 246, 'score': 0.12500737565840048},\n",
              " {'index': 94, 'score': 0.12472371248335497},\n",
              " {'index': 224, 'score': 0.12446420597645841},\n",
              " {'index': 131, 'score': 0.1241383773354644},\n",
              " {'index': 54, 'score': 0.12407072146666073},\n",
              " {'index': 34, 'score': 0.12378685791620717},\n",
              " {'index': 25, 'score': 0.12360674390935607},\n",
              " {'index': 208, 'score': 0.12278482118722091},\n",
              " {'index': 59, 'score': 0.12257829444121593},\n",
              " {'index': 177, 'score': 0.12228833101529352},\n",
              " {'index': 287, 'score': 0.1205261528505839},\n",
              " {'index': 197, 'score': 0.12020186524499898},\n",
              " {'index': 195, 'score': 0.1178613561431768},\n",
              " {'index': 126, 'score': 0.11775085937667157},\n",
              " {'index': 296, 'score': 0.11580606714970329},\n",
              " {'index': 295, 'score': 0.11571711162066567},\n",
              " {'index': 301, 'score': 0.11555854280133328},\n",
              " {'index': 166, 'score': 0.11483194923738253},\n",
              " {'index': 206, 'score': 0.11445523578481967},\n",
              " {'index': 108, 'score': 0.11381554242766515},\n",
              " {'index': 14, 'score': 0.11236916671410074},\n",
              " {'index': 247, 'score': 0.11227091285674183},\n",
              " {'index': 33, 'score': 0.11224580671838305},\n",
              " {'index': 180, 'score': 0.11220919807157598},\n",
              " {'index': 119, 'score': 0.11177235539014413},\n",
              " {'index': 27, 'score': 0.11162249341770625},\n",
              " {'index': 186, 'score': 0.11135848756395192},\n",
              " {'index': 103, 'score': 0.11014577241861086},\n",
              " {'index': 209, 'score': 0.11005770010415895},\n",
              " {'index': 205, 'score': 0.10984650563578557},\n",
              " {'index': 114, 'score': 0.10945191990692699},\n",
              " {'index': 201, 'score': 0.10815528447037447},\n",
              " {'index': 147, 'score': 0.10761027051537589},\n",
              " {'index': 56, 'score': 0.10753459643457994},\n",
              " {'index': 107, 'score': 0.10748916528783652},\n",
              " {'index': 106, 'score': 0.10742233818807509},\n",
              " {'index': 176, 'score': 0.10703501011280903},\n",
              " {'index': 170, 'score': 0.10703198350752416},\n",
              " {'index': 141, 'score': 0.1069170640557745},\n",
              " {'index': 169, 'score': 0.10691295397380117},\n",
              " {'index': 181, 'score': 0.1063603349615315},\n",
              " {'index': 61, 'score': 0.10624903026927822},\n",
              " {'index': 60, 'score': 0.10522862418983808},\n",
              " {'index': 286, 'score': 0.10499976943987606},\n",
              " {'index': 31, 'score': 0.10424121398141026},\n",
              " {'index': 294, 'score': 0.10378184986696759},\n",
              " {'index': 207, 'score': 0.103613948259305},\n",
              " {'index': 112, 'score': 0.1034912868076544},\n",
              " {'index': 215, 'score': 0.10330007190814068},\n",
              " {'index': 116, 'score': 0.10214811487278173},\n",
              " {'index': 248, 'score': 0.10209361925472812},\n",
              " {'index': 153, 'score': 0.10208928895900217},\n",
              " {'index': 174, 'score': 0.10156160054041231},\n",
              " {'index': 191, 'score': 0.10066256144048358},\n",
              " {'index': 113, 'score': 0.10029967977616655},\n",
              " {'index': 137, 'score': 0.09938543826539992},\n",
              " {'index': 142, 'score': 0.09938543826539992},\n",
              " {'index': 200, 'score': 0.09912658427978444},\n",
              " {'index': 69, 'score': 0.09902862656617736},\n",
              " {'index': 171, 'score': 0.0978534306332981},\n",
              " {'index': 21, 'score': 0.09783136436173173},\n",
              " {'index': 74, 'score': 0.09765705058058023},\n",
              " {'index': 22, 'score': 0.09749764083254628},\n",
              " {'index': 275, 'score': 0.0969704376093345},\n",
              " {'index': 155, 'score': 0.09666359056671618},\n",
              " {'index': 236, 'score': 0.09609944049369515},\n",
              " {'index': 156, 'score': 0.09547863538441928},\n",
              " {'index': 140, 'score': 0.09417436656326503},\n",
              " {'index': 151, 'score': 0.09405109198266219},\n",
              " {'index': 256, 'score': 0.09352817081715241},\n",
              " {'index': 91, 'score': 0.09209985973007062},\n",
              " {'index': 285, 'score': 0.09199191951684027},\n",
              " {'index': 30, 'score': 0.0919710866725524},\n",
              " {'index': 53, 'score': 0.09014372052306002},\n",
              " {'index': 269, 'score': 0.08984298065110483},\n",
              " {'index': 146, 'score': 0.08935792547611927},\n",
              " {'index': 190, 'score': 0.08754224463505231},\n",
              " {'index': 182, 'score': 0.08753359218173128},\n",
              " {'index': 98, 'score': 0.0865948991534481},\n",
              " {'index': 188, 'score': 0.08610325954961874},\n",
              " {'index': 297, 'score': 0.08571106476018454},\n",
              " {'index': 249, 'score': 0.08548409273114703},\n",
              " {'index': 136, 'score': 0.0846986764736892},\n",
              " {'index': 123, 'score': 0.08446431117641996},\n",
              " {'index': 100, 'score': 0.08439588194862038},\n",
              " {'index': 164, 'score': 0.08287743057389946},\n",
              " {'index': 110, 'score': 0.08254218546469749},\n",
              " {'index': 277, 'score': 0.08248876203747343},\n",
              " {'index': 101, 'score': 0.0820243355749041},\n",
              " {'index': 122, 'score': 0.08037080662548252},\n",
              " {'index': 109, 'score': 0.07977357187729829},\n",
              " {'index': 117, 'score': 0.07899606744227283},\n",
              " {'index': 162, 'score': 0.07836651623510389},\n",
              " {'index': 10, 'score': 0.07832807626013671},\n",
              " {'index': 3, 'score': 0.07793258510710678},\n",
              " {'index': 139, 'score': 0.07610225949859856},\n",
              " {'index': 221, 'score': 0.07580699358929584},\n",
              " {'index': 13, 'score': 0.0750542985910141},\n",
              " {'index': 105, 'score': 0.07413670255244552},\n",
              " {'index': 28, 'score': 0.07335038851067759},\n",
              " {'index': 148, 'score': 0.07302506612822304},\n",
              " {'index': 135, 'score': 0.07247747054515898},\n",
              " {'index': 268, 'score': 0.07204315403457177},\n",
              " {'index': 154, 'score': 0.07203422364275255},\n",
              " {'index': 102, 'score': 0.07146212077866103},\n",
              " {'index': 130, 'score': 0.06990986562702424},\n",
              " {'index': 111, 'score': 0.06852758426374622},\n",
              " {'index': 104, 'score': 0.06736928867510497},\n",
              " {'index': 196, 'score': 0.06709663380971854},\n",
              " {'index': 68, 'score': 0.06553603048331938},\n",
              " {'index': 70, 'score': 0.06521245626364547},\n",
              " {'index': 189, 'score': 0.06447330682365264},\n",
              " {'index': 173, 'score': 0.06339326971906209},\n",
              " {'index': 178, 'score': 0.06290508846431284},\n",
              " {'index': 15, 'score': 0.06123319805422879},\n",
              " {'index': 270, 'score': 0.060404481458358736},\n",
              " {'index': 183, 'score': 0.0601497961765692},\n",
              " {'index': 133, 'score': 0.05763958887632448},\n",
              " {'index': 97, 'score': 0.05733682739456144},\n",
              " {'index': 99, 'score': 0.05322817439669241},\n",
              " {'index': 11, 'score': 0.049823206275454904},\n",
              " {'index': 185, 'score': 0.04830428571230908},\n",
              " {'index': 192, 'score': 0.04746077749318515},\n",
              " {'index': 271, 'score': 0.043206777396732815},\n",
              " {'index': 47, 'score': 0.043016546409336096},\n",
              " {'index': 48, 'score': 0.043016546409336096},\n",
              " {'index': 49, 'score': 0.043016546409336096},\n",
              " {'index': 58, 'score': 0.043016546409336096},\n",
              " {'index': 238, 'score': 0.043016546409336096},\n",
              " {'index': 257, 'score': 0.043016546409336096},\n",
              " {'index': 260, 'score': 0.043016546409336096},\n",
              " {'index': 261, 'score': 0.043016546409336096},\n",
              " {'index': 264, 'score': 0.043016546409336096},\n",
              " {'index': 267, 'score': 0.043016546409336096},\n",
              " {'index': 272, 'score': 0.043016546409336096},\n",
              " {'index': 273, 'score': 0.043016546409336096},\n",
              " {'index': 278, 'score': 0.043016546409336096},\n",
              " {'index': 279, 'score': 0.043016546409336096},\n",
              " {'index': 288, 'score': 0.043016546409336096},\n",
              " {'index': 291, 'score': 0.043016546409336096},\n",
              " {'index': 85, 'score': 0.042497590536125465},\n",
              " {'index': 161, 'score': 0.022409315951802507},\n",
              " {'index': 160, 'score': 0.01458253328215981},\n",
              " {'index': 159, 'score': 0.011504240018573362},\n",
              " {'index': 24, 'score': 0.008755012547903646},\n",
              " {'index': 194, 'score': 0.0}]"
            ]
          },
          "metadata": {},
          "execution_count": 6
        }
      ],
      "source": [
        "from sklearn.feature_extraction.text import TfidfVectorizer\n",
        "from sklearn.metrics.pairwise import cosine_similarity\n",
        "\n",
        "# base_document = \"This is an example sentence for the document to be compared\"\n",
        "# documents = [\"This is the collection of documents to be compared against the base_document\"]\n",
        "\n",
        "def process_tfidf_similarity():\n",
        "\tvectorizer = TfidfVectorizer()\n",
        "\n",
        "\t# To make uniformed vectors, both documents need to be combined first.\n",
        "\tlist(documents).insert(0, base_document)\n",
        "\t\n",
        "\tembeddings = vectorizer.fit_transform(documents.values.astype('U'))\n",
        "\t# print(embeddings)\t\n",
        "\n",
        "\tcosine_similarities = cosine_similarity(embeddings[0:1], embeddings[0:]).flatten()\n",
        "\t\n",
        "\tpairs = []\n",
        "\n",
        "\tfor i in range(len(cosine_similarities)):\n",
        "\t\t\tpairs.append({'index': i, 'score': cosine_similarities[i]})\n",
        "\n",
        "\t#Sort scores in decreasing order\n",
        "\tpairs = sorted(pairs, key=lambda x: x['score'], reverse=True)\n",
        "\n",
        "\treturn list(pairs)\n",
        "\n",
        "\t\n",
        "\n",
        "process_tfidf_similarity()\n"
      ]
    },
    {
      "cell_type": "code",
      "source": [
        "from sklearn.feature_extraction.text import TfidfVectorizer\n",
        "from sklearn.metrics.pairwise import cosine_similarity\n",
        "\n",
        "# base_document = \"This is an example sentence for the document to be compared\"\n",
        "# documents = [\"This is the collection of documents to be compared against the base_document\"]\n",
        "\n",
        "def tfidf_similarity(doc1, doc2):\n",
        "\tvectorizer = TfidfVectorizer()\n",
        "\n",
        "\t# To make uniformed vectors, both documents need to be combined first.\n",
        "\tdocuments = [doc1, doc2]\n",
        "\t\n",
        "\tembeddings = vectorizer.fit_transform(documents)\n",
        "\t# print(embeddings)\t\n",
        "\n",
        "\tcosine_similarities = cosine_similarity(embeddings[0:1], embeddings[1:]).flatten()\n",
        "\t\n",
        "\treturn cosine_similarities\n",
        "\n",
        "\t\n",
        "doc1 = \"Hà Nội là thủ đô của Việt Nam\"\n",
        "doc2 = \"NewYork là thủ đô của Hoa Kỳ\"\n",
        "\n",
        "tfidf_similarity(doc1, doc2)\n"
      ],
      "metadata": {
        "colab": {
          "base_uri": "https://localhost:8080/"
        },
        "id": "lMRPXsE9ey-G",
        "outputId": "8a1c9e65-ef82-438e-e956-0c2688db0aac"
      },
      "execution_count": null,
      "outputs": [
        {
          "output_type": "execute_result",
          "data": {
            "text/plain": [
              "array([0.36802321])"
            ]
          },
          "metadata": {},
          "execution_count": 123
        }
      ]
    },
    {
      "cell_type": "code",
      "source": [
        "documents.shape"
      ],
      "metadata": {
        "colab": {
          "base_uri": "https://localhost:8080/"
        },
        "id": "bRo0gFHrr2BR",
        "outputId": "08652fcb-1e0d-459d-b193-b56444aaa080"
      },
      "execution_count": null,
      "outputs": [
        {
          "output_type": "execute_result",
          "data": {
            "text/plain": [
              "(4,)"
            ]
          },
          "metadata": {},
          "execution_count": 122
        }
      ]
    },
    {
      "cell_type": "code",
      "source": [
        "size = documents.shape\n",
        "for i in range(4):\n",
        "  print(tfidf_similarity(documents[0], documents[i]))"
      ],
      "metadata": {
        "colab": {
          "base_uri": "https://localhost:8080/"
        },
        "id": "MCWfgAJasFOR",
        "outputId": "c74229e6-fd94-4737-d1b9-f281b9efb573"
      },
      "execution_count": null,
      "outputs": [
        {
          "output_type": "stream",
          "name": "stdout",
          "text": [
            "[1.]\n",
            "[0.99332399]\n",
            "[0.99992254]\n",
            "[0.69564704]\n"
          ]
        }
      ]
    }
  ],
  "metadata": {
    "kernelspec": {
      "display_name": "ai",
      "language": "python",
      "name": "python3"
    },
    "language_info": {
      "codemirror_mode": {
        "name": "ipython",
        "version": 3
      },
      "file_extension": ".py",
      "mimetype": "text/x-python",
      "name": "python",
      "nbconvert_exporter": "python",
      "pygments_lexer": "ipython3",
      "version": "3.10.6 | packaged by conda-forge | (main, Oct 24 2022, 16:02:16) [MSC v.1916 64 bit (AMD64)]"
    },
    "orig_nbformat": 4,
    "vscode": {
      "interpreter": {
        "hash": "23d2138e26dfb28839b83ed814a43cc60c3d8c006f4568ef7458f1442bc438e6"
      }
    },
    "colab": {
      "provenance": []
    }
  },
  "nbformat": 4,
  "nbformat_minor": 0
}