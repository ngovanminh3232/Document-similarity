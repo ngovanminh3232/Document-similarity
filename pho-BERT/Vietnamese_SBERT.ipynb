{
  "cells": [
    {
      "cell_type": "markdown",
      "metadata": {
        "id": "0mI0WA9d28vK"
      },
      "source": [
        "Brief guide to run Vietnamese SBERT.\n",
        "\n",
        "[![Gimme the CODE !](https://img.shields.io/badge/Give%20me-the%20CODE-1abc9c.svg)](https://github.com/Datami555/sentence-transformers)"
      ]
    },
    {
      "cell_type": "markdown",
      "metadata": {
        "id": "WEEPBuxRy05r"
      },
      "source": [
        "# Install dependencies"
      ]
    },
    {
      "cell_type": "code",
      "execution_count": 1,
      "metadata": {
        "colab": {
          "base_uri": "https://localhost:8080/"
        },
        "id": "OIHnUEu6bePJ",
        "outputId": "9aa45842-b0c0-4b8a-d1fb-62f857b5ef6e"
      },
      "outputs": [
        {
          "output_type": "stream",
          "name": "stdout",
          "text": [
            "Looking in indexes: https://pypi.org/simple, https://us-python.pkg.dev/colab-wheels/public/simple/\n",
            "Requirement already satisfied: gdown in /usr/local/lib/python3.8/dist-packages (4.4.0)\n",
            "Collecting gdown\n",
            "  Downloading gdown-4.6.0-py3-none-any.whl (14 kB)\n",
            "Requirement already satisfied: tqdm in /usr/local/lib/python3.8/dist-packages (from gdown) (4.64.1)\n",
            "Requirement already satisfied: filelock in /usr/local/lib/python3.8/dist-packages (from gdown) (3.8.2)\n",
            "Requirement already satisfied: beautifulsoup4 in /usr/local/lib/python3.8/dist-packages (from gdown) (4.6.3)\n",
            "Requirement already satisfied: requests[socks] in /usr/local/lib/python3.8/dist-packages (from gdown) (2.25.1)\n",
            "Requirement already satisfied: six in /usr/local/lib/python3.8/dist-packages (from gdown) (1.15.0)\n",
            "Requirement already satisfied: chardet<5,>=3.0.2 in /usr/local/lib/python3.8/dist-packages (from requests[socks]->gdown) (4.0.0)\n",
            "Requirement already satisfied: urllib3<1.27,>=1.21.1 in /usr/local/lib/python3.8/dist-packages (from requests[socks]->gdown) (1.24.3)\n",
            "Requirement already satisfied: idna<3,>=2.5 in /usr/local/lib/python3.8/dist-packages (from requests[socks]->gdown) (2.10)\n",
            "Requirement already satisfied: certifi>=2017.4.17 in /usr/local/lib/python3.8/dist-packages (from requests[socks]->gdown) (2022.12.7)\n",
            "Requirement already satisfied: PySocks!=1.5.7,>=1.5.6 in /usr/local/lib/python3.8/dist-packages (from requests[socks]->gdown) (1.7.1)\n",
            "Installing collected packages: gdown\n",
            "  Attempting uninstall: gdown\n",
            "    Found existing installation: gdown 4.4.0\n",
            "    Uninstalling gdown-4.4.0:\n",
            "      Successfully uninstalled gdown-4.4.0\n",
            "Successfully installed gdown-4.6.0\n"
          ]
        }
      ],
      "source": [
        "!pip install -U --no-cache-dir gdown --pre"
      ]
    },
    {
      "cell_type": "code",
      "execution_count": 2,
      "metadata": {
        "colab": {
          "base_uri": "https://localhost:8080/"
        },
        "id": "JbsvbyMqEg1o",
        "outputId": "6d2e56f7-2ebd-4327-bbca-b33566f62e2d"
      },
      "outputs": [
        {
          "output_type": "stream",
          "name": "stdout",
          "text": [
            "Downloading...\n",
            "From: https://drive.google.com/a/gm.uit.edu.vn/uc?id=1pXJZ9eHp6DWkQ5MhCzmWYsKyLQEDiodz\n",
            "To: /content/vn_sbert_deploy.tar.gz\n",
            "100% 485M/485M [00:07<00:00, 65.4MB/s]\n"
          ]
        }
      ],
      "source": [
        "!gdown https://drive.google.com/a/gm.uit.edu.vn/uc?id=1pXJZ9eHp6DWkQ5MhCzmWYsKyLQEDiodz&export=download\n",
        "!tar xzf /content/vn_sbert_deploy.tar.gz"
      ]
    },
    {
      "cell_type": "code",
      "execution_count": 3,
      "metadata": {
        "colab": {
          "base_uri": "https://localhost:8080/"
        },
        "id": "1XD9h8Ms8dJI",
        "outputId": "406f536b-25f8-4882-ee25-41afed3461eb"
      },
      "outputs": [
        {
          "output_type": "stream",
          "name": "stdout",
          "text": [
            "Downloading...\n",
            "From: https://drive.google.com/uc?id=1ZAC3mLjoWprkvRTR61xmtBn9OseorpCh\n",
            "To: /content/newpaper.csv\n",
            "\r  0% 0.00/1.29M [00:00<?, ?B/s]\r100% 1.29M/1.29M [00:00<00:00, 175MB/s]\n"
          ]
        }
      ],
      "source": [
        "!gdown https://drive.google.com/uc?id=1ZAC3mLjoWprkvRTR61xmtBn9OseorpCh&export=download"
      ]
    },
    {
      "cell_type": "code",
      "execution_count": 4,
      "metadata": {
        "colab": {
          "base_uri": "https://localhost:8080/"
        },
        "id": "zeAA_X-fyw6-",
        "outputId": "51b11e14-146d-4b88-9411-988eacfb866a"
      },
      "outputs": [
        {
          "output_type": "stream",
          "name": "stdout",
          "text": [
            "\u001b[2K     \u001b[90m━━━━━━━━━━━━━━━━━━━━━━━━━━━━━━━━━━━━━━━━\u001b[0m \u001b[32m5.8/5.8 MB\u001b[0m \u001b[31m65.7 MB/s\u001b[0m eta \u001b[36m0:00:00\u001b[0m\n",
            "\u001b[2K     \u001b[90m━━━━━━━━━━━━━━━━━━━━━━━━━━━━━━━━━━━━━━\u001b[0m \u001b[32m182.4/182.4 KB\u001b[0m \u001b[31m25.4 MB/s\u001b[0m eta \u001b[36m0:00:00\u001b[0m\n",
            "\u001b[2K     \u001b[90m━━━━━━━━━━━━━━━━━━━━━━━━━━━━━━━━━━━━━━━━\u001b[0m \u001b[32m7.6/7.6 MB\u001b[0m \u001b[31m83.8 MB/s\u001b[0m eta \u001b[36m0:00:00\u001b[0m\n",
            "\u001b[?25h\u001b[31mERROR: Operation cancelled by user\u001b[0m\u001b[31m\n",
            "\u001b[0mTraceback (most recent call last):\n",
            "  File \"/usr/local/lib/python3.8/dist-packages/pip/_vendor/pkg_resources/__init__.py\", line 3021, in _dep_map\n",
            "    return self.__dep_map\n",
            "  File \"/usr/local/lib/python3.8/dist-packages/pip/_vendor/pkg_resources/__init__.py\", line 2815, in __getattr__\n",
            "    raise AttributeError(attr)\n",
            "AttributeError: _DistInfoDistribution__dep_map\n",
            "\n",
            "During handling of the above exception, another exception occurred:\n",
            "\n",
            "Traceback (most recent call last):\n",
            "  File \"/usr/local/lib/python3.8/dist-packages/pip/_internal/cli/base_command.py\", line 167, in exc_logging_wrapper\n",
            "    status = run_func(*args)\n",
            "  File \"/usr/local/lib/python3.8/dist-packages/pip/_internal/cli/req_command.py\", line 199, in wrapper\n",
            "    return func(self, options, args)\n",
            "  File \"/usr/local/lib/python3.8/dist-packages/pip/_internal/commands/install.py\", line 397, in run\n",
            "    conflicts = self._determine_conflicts(to_install)\n",
            "  File \"/usr/local/lib/python3.8/dist-packages/pip/_internal/commands/install.py\", line 529, in _determine_conflicts\n",
            "    return check_install_conflicts(to_install)\n",
            "  File \"/usr/local/lib/python3.8/dist-packages/pip/_internal/operations/check.py\", line 101, in check_install_conflicts\n",
            "    package_set, _ = create_package_set_from_installed()\n",
            "  File \"/usr/local/lib/python3.8/dist-packages/pip/_internal/operations/check.py\", line 42, in create_package_set_from_installed\n",
            "    dependencies = list(dist.iter_dependencies())\n",
            "  File \"/usr/local/lib/python3.8/dist-packages/pip/_internal/metadata/pkg_resources.py\", line 202, in iter_dependencies\n",
            "    return self._dist.requires(extras)\n",
            "  File \"/usr/local/lib/python3.8/dist-packages/pip/_vendor/pkg_resources/__init__.py\", line 2736, in requires\n",
            "    dm = self._dep_map\n",
            "  File \"/usr/local/lib/python3.8/dist-packages/pip/_vendor/pkg_resources/__init__.py\", line 3023, in _dep_map\n",
            "    self.__dep_map = self._compute_dependencies()\n",
            "  File \"/usr/local/lib/python3.8/dist-packages/pip/_vendor/pkg_resources/__init__.py\", line 3033, in _compute_dependencies\n",
            "    reqs.extend(parse_requirements(req))\n",
            "  File \"/usr/local/lib/python3.8/dist-packages/pip/_vendor/pkg_resources/__init__.py\", line 3094, in parse_requirements\n",
            "    yield Requirement(line)\n",
            "  File \"/usr/local/lib/python3.8/dist-packages/pip/_vendor/pkg_resources/__init__.py\", line 3101, in __init__\n",
            "    super(Requirement, self).__init__(requirement_string)\n",
            "  File \"/usr/local/lib/python3.8/dist-packages/pip/_vendor/packaging/requirements.py\", line 102, in __init__\n",
            "    req = REQUIREMENT.parseString(requirement_string)\n",
            "  File \"/usr/local/lib/python3.8/dist-packages/pip/_vendor/pyparsing/core.py\", line 1124, in parse_string\n",
            "    loc, tokens = self._parse(instring, 0)\n",
            "  File \"/usr/local/lib/python3.8/dist-packages/pip/_vendor/pyparsing/core.py\", line 810, in _parseNoCache\n",
            "    loc, tokens = self.parseImpl(instring, pre_loc, doActions)\n",
            "  File \"/usr/local/lib/python3.8/dist-packages/pip/_vendor/pyparsing/core.py\", line 3863, in parseImpl\n",
            "    loc, exprtokens = e._parse(instring, loc, doActions)\n",
            "  File \"/usr/local/lib/python3.8/dist-packages/pip/_vendor/pyparsing/core.py\", line 810, in _parseNoCache\n",
            "    loc, tokens = self.parseImpl(instring, pre_loc, doActions)\n",
            "  File \"/usr/local/lib/python3.8/dist-packages/pip/_vendor/pyparsing/core.py\", line 4091, in parseImpl\n",
            "    return e._parse(\n",
            "  File \"/usr/local/lib/python3.8/dist-packages/pip/_vendor/pyparsing/core.py\", line 810, in _parseNoCache\n",
            "    loc, tokens = self.parseImpl(instring, pre_loc, doActions)\n",
            "  File \"/usr/local/lib/python3.8/dist-packages/pip/_vendor/pyparsing/core.py\", line 3841, in parseImpl\n",
            "    loc, resultlist = self.exprs[0]._parse(\n",
            "  File \"/usr/local/lib/python3.8/dist-packages/pip/_vendor/pyparsing/core.py\", line 810, in _parseNoCache\n",
            "    loc, tokens = self.parseImpl(instring, pre_loc, doActions)\n",
            "  File \"/usr/local/lib/python3.8/dist-packages/pip/_vendor/pyparsing/core.py\", line 3863, in parseImpl\n",
            "    loc, exprtokens = e._parse(instring, loc, doActions)\n",
            "  File \"/usr/local/lib/python3.8/dist-packages/pip/_vendor/pyparsing/core.py\", line 810, in _parseNoCache\n",
            "    loc, tokens = self.parseImpl(instring, pre_loc, doActions)\n",
            "  File \"/usr/local/lib/python3.8/dist-packages/pip/_vendor/pyparsing/core.py\", line 4936, in parseImpl\n",
            "    loc, tokens = self_expr._parse(instring, loc, doActions, callPreParse=False)\n",
            "  File \"/usr/local/lib/python3.8/dist-packages/pip/_vendor/pyparsing/core.py\", line 810, in _parseNoCache\n",
            "    loc, tokens = self.parseImpl(instring, pre_loc, doActions)\n",
            "  File \"/usr/local/lib/python3.8/dist-packages/pip/_vendor/pyparsing/core.py\", line 4091, in parseImpl\n",
            "    return e._parse(\n",
            "  File \"/usr/local/lib/python3.8/dist-packages/pip/_vendor/pyparsing/core.py\", line 810, in _parseNoCache\n",
            "    loc, tokens = self.parseImpl(instring, pre_loc, doActions)\n",
            "  File \"/usr/local/lib/python3.8/dist-packages/pip/_vendor/pyparsing/core.py\", line 3863, in parseImpl\n",
            "    loc, exprtokens = e._parse(instring, loc, doActions)\n",
            "  File \"/usr/local/lib/python3.8/dist-packages/pip/_vendor/pyparsing/core.py\", line 810, in _parseNoCache\n",
            "    loc, tokens = self.parseImpl(instring, pre_loc, doActions)\n",
            "  File \"/usr/local/lib/python3.8/dist-packages/pip/_vendor/pyparsing/core.py\", line 4352, in parseImpl\n",
            "    return self.expr._parse(instring, loc, doActions, callPreParse=False)\n",
            "  File \"/usr/local/lib/python3.8/dist-packages/pip/_vendor/pyparsing/core.py\", line 810, in _parseNoCache\n",
            "    loc, tokens = self.parseImpl(instring, pre_loc, doActions)\n",
            "  File \"/usr/local/lib/python3.8/dist-packages/pip/_vendor/pyparsing/core.py\", line 3841, in parseImpl\n",
            "    loc, resultlist = self.exprs[0]._parse(\n",
            "  File \"/usr/local/lib/python3.8/dist-packages/pip/_vendor/pyparsing/core.py\", line 810, in _parseNoCache\n",
            "    loc, tokens = self.parseImpl(instring, pre_loc, doActions)\n",
            "  File \"/usr/local/lib/python3.8/dist-packages/pip/_vendor/pyparsing/core.py\", line 3976, in parseImpl\n",
            "    loc2, toks = expr1._parse(instring, loc, doActions)\n",
            "  File \"/usr/local/lib/python3.8/dist-packages/pip/_vendor/pyparsing/core.py\", line 814, in _parseNoCache\n",
            "    loc, tokens = self.parseImpl(instring, pre_loc, doActions)\n",
            "  File \"/usr/local/lib/python3.8/dist-packages/pip/_vendor/pyparsing/core.py\", line 2975, in parseImpl\n",
            "    ret[k] = v\n",
            "  File \"/usr/local/lib/python3.8/dist-packages/pip/_vendor/pyparsing/results.py\", line 209, in __setitem__\n",
            "    _ParseResultsWithOffset(v, 0)\n",
            "  File \"/usr/local/lib/python3.8/dist-packages/pip/_vendor/pyparsing/results.py\", line 15, in __init__\n",
            "    self.tup = (p1, p2)\n",
            "KeyboardInterrupt\n",
            "\n",
            "During handling of the above exception, another exception occurred:\n",
            "\n",
            "Traceback (most recent call last):\n",
            "  File \"/usr/local/bin/pip3\", line 8, in <module>\n",
            "    sys.exit(main())\n",
            "  File \"/usr/local/lib/python3.8/dist-packages/pip/_internal/cli/main.py\", line 70, in main\n",
            "    return command.main(cmd_args)\n",
            "  File \"/usr/local/lib/python3.8/dist-packages/pip/_internal/cli/base_command.py\", line 101, in main\n",
            "    return self._main(args)\n",
            "  File \"/usr/local/lib/python3.8/dist-packages/pip/_internal/cli/base_command.py\", line 221, in _main\n",
            "    return run(options, args)\n",
            "  File \"/usr/local/lib/python3.8/dist-packages/pip/_internal/cli/base_command.py\", line 204, in exc_logging_wrapper\n",
            "    logger.critical(\"Operation cancelled by user\")\n",
            "  File \"/usr/lib/python3.8/logging/__init__.py\", line 1493, in critical\n",
            "    self._log(CRITICAL, msg, args, **kwargs)\n",
            "  File \"/usr/lib/python3.8/logging/__init__.py\", line 1589, in _log\n",
            "    self.handle(record)\n",
            "  File \"/usr/lib/python3.8/logging/__init__.py\", line 1599, in handle\n",
            "    self.callHandlers(record)\n",
            "  File \"/usr/lib/python3.8/logging/__init__.py\", line 1661, in callHandlers\n",
            "    hdlr.handle(record)\n",
            "  File \"/usr/lib/python3.8/logging/__init__.py\", line 954, in handle\n",
            "    self.emit(record)\n",
            "  File \"/usr/lib/python3.8/logging/handlers.py\", line 71, in emit\n",
            "    logging.FileHandler.emit(self, record)\n",
            "  File \"/usr/lib/python3.8/logging/__init__.py\", line 1187, in emit\n",
            "    StreamHandler.emit(self, record)\n",
            "  File \"/usr/lib/python3.8/logging/__init__.py\", line 1089, in emit\n",
            "    self.flush()\n",
            "  File \"/usr/lib/python3.8/logging/__init__.py\", line 1069, in flush\n",
            "    self.stream.flush()\n",
            "KeyboardInterrupt\n",
            "^C\n",
            "\u001b[2K     \u001b[90m━━━━━━━━━━━━━━━━━━━━━━━━━━━━━━━━━━━━━━━━\u001b[0m \u001b[32m2.6/2.6 MB\u001b[0m \u001b[31m30.7 MB/s\u001b[0m eta \u001b[36m0:00:00\u001b[0m\n",
            "\u001b[?25h  Preparing metadata (setup.py) ... \u001b[?25l\u001b[?25hdone\n",
            "  Building wheel for vncorenlp (setup.py) ... \u001b[?25l\u001b[?25hdone\n",
            "\u001b[2K     \u001b[90m━━━━━━━━━━━━━━━━━━━━━━━━━━━━━━━━━━━━━━━━\u001b[0m \u001b[32m11.0/11.0 MB\u001b[0m \u001b[31m89.0 MB/s\u001b[0m eta \u001b[36m0:00:00\u001b[0m\n",
            "\u001b[2K     \u001b[90m━━━━━━━━━━━━━━━━━━━━━━━━━━━━━━━━━━━━━━\u001b[0m \u001b[32m240.4/240.4 KB\u001b[0m \u001b[31m24.4 MB/s\u001b[0m eta \u001b[36m0:00:00\u001b[0m\n",
            "\u001b[2K     \u001b[90m━━━━━━━━━━━━━━━━━━━━━━━━━━━━━━━━━━━━━━\u001b[0m \u001b[32m123.8/123.8 KB\u001b[0m \u001b[31m16.0 MB/s\u001b[0m eta \u001b[36m0:00:00\u001b[0m\n",
            "\u001b[2K     \u001b[90m━━━━━━━━━━━━━━━━━━━━━━━━━━━━━━━━━━━━━━\u001b[0m \u001b[32m118.9/118.9 KB\u001b[0m \u001b[31m16.8 MB/s\u001b[0m eta \u001b[36m0:00:00\u001b[0m\n",
            "\u001b[2K     \u001b[90m━━━━━━━━━━━━━━━━━━━━━━━━━━━━━━━━━━━━━━\u001b[0m \u001b[32m112.4/112.4 KB\u001b[0m \u001b[31m15.0 MB/s\u001b[0m eta \u001b[36m0:00:00\u001b[0m\n",
            "\u001b[?25h  Preparing metadata (setup.py) ... \u001b[?25l\u001b[?25hdone\n",
            "  Building wheel for antlr4-python3-runtime (setup.py) ... \u001b[?25l\u001b[?25hdone\n",
            "  Preparing metadata (setup.py) ... \u001b[?25l\u001b[?25hdone\n",
            "  Building wheel for fastBPE (setup.py) ... \u001b[?25l\u001b[?25hdone\n",
            "\u001b[2K     \u001b[90m━━━━━━━━━━━━━━━━━━━━━━━━━━━━━━━━━━━━━━\u001b[0m \u001b[32m761.3/761.3 KB\u001b[0m \u001b[31m28.0 MB/s\u001b[0m eta \u001b[36m0:00:00\u001b[0m\n",
            "\u001b[?25h  Preparing metadata (setup.py) ... \u001b[?25l\u001b[?25hdone\n",
            "  Building wheel for pyngrok (setup.py) ... \u001b[?25l\u001b[?25hdone\n",
            "\u001b[2K     \u001b[90m━━━━━━━━━━━━━━━━━━━━━━━━━━━━━━━━━━━━━━\u001b[0m \u001b[32m662.4/662.4 KB\u001b[0m \u001b[31m24.8 MB/s\u001b[0m eta \u001b[36m0:00:00\u001b[0m\n",
            "\u001b[?25hLooking in indexes: https://pypi.org/simple, https://us-python.pkg.dev/colab-wheels/public/simple/\n",
            "Collecting underthesea\n",
            "  Downloading underthesea-6.0.1-py3-none-any.whl (11.0 MB)\n",
            "\u001b[2K     \u001b[90m━━━━━━━━━━━━━━━━━━━━━━━━━━━━━━━━━━━━━━━━\u001b[0m \u001b[32m11.0/11.0 MB\u001b[0m \u001b[31m88.9 MB/s\u001b[0m eta \u001b[36m0:00:00\u001b[0m\n",
            "\u001b[?25hRequirement already satisfied: PyYAML in /usr/local/lib/python3.8/dist-packages (from underthesea) (5.4.1)\n",
            "Requirement already satisfied: nltk in /usr/local/lib/python3.8/dist-packages (from underthesea) (3.7)\n",
            "Requirement already satisfied: Click>=6.0 in /usr/local/lib/python3.8/dist-packages (from underthesea) (7.1.2)\n",
            "Requirement already satisfied: scikit-learn in /usr/local/lib/python3.8/dist-packages (from underthesea) (1.0.2)\n",
            "Collecting underthesea-core==0.0.5a2\n",
            "  Downloading underthesea_core-0.0.5_alpha.2-cp38-cp38-manylinux2010_x86_64.whl (591 kB)\n",
            "\u001b[2K     \u001b[90m━━━━━━━━━━━━━━━━━━━━━━━━━━━━━━━━━━━━━━\u001b[0m \u001b[32m591.3/591.3 KB\u001b[0m \u001b[31m56.9 MB/s\u001b[0m eta \u001b[36m0:00:00\u001b[0m\n",
            "\u001b[?25hRequirement already satisfied: requests in /usr/local/lib/python3.8/dist-packages (from underthesea) (2.25.1)\n",
            "Collecting python-crfsuite>=0.9.6\n",
            "  Downloading python_crfsuite-0.9.8-cp38-cp38-manylinux_2_17_x86_64.manylinux2014_x86_64.whl (1.0 MB)\n",
            "\u001b[2K     \u001b[90m━━━━━━━━━━━━━━━━━━━━━━━━━━━━━━━━━━━━━━━━\u001b[0m \u001b[32m1.0/1.0 MB\u001b[0m \u001b[31m71.7 MB/s\u001b[0m eta \u001b[36m0:00:00\u001b[0m\n",
            "\u001b[?25hRequirement already satisfied: tqdm in /usr/local/lib/python3.8/dist-packages (from underthesea) (4.64.1)\n",
            "Requirement already satisfied: joblib in /usr/local/lib/python3.8/dist-packages (from underthesea) (1.2.0)\n",
            "Requirement already satisfied: regex>=2021.8.3 in /usr/local/lib/python3.8/dist-packages (from nltk->underthesea) (2022.6.2)\n",
            "Requirement already satisfied: chardet<5,>=3.0.2 in /usr/local/lib/python3.8/dist-packages (from requests->underthesea) (4.0.0)\n",
            "Requirement already satisfied: certifi>=2017.4.17 in /usr/local/lib/python3.8/dist-packages (from requests->underthesea) (2022.12.7)\n",
            "Requirement already satisfied: idna<3,>=2.5 in /usr/local/lib/python3.8/dist-packages (from requests->underthesea) (2.10)\n",
            "Requirement already satisfied: urllib3<1.27,>=1.21.1 in /usr/local/lib/python3.8/dist-packages (from requests->underthesea) (1.24.3)\n",
            "Requirement already satisfied: numpy>=1.14.6 in /usr/local/lib/python3.8/dist-packages (from scikit-learn->underthesea) (1.21.6)\n",
            "Requirement already satisfied: threadpoolctl>=2.0.0 in /usr/local/lib/python3.8/dist-packages (from scikit-learn->underthesea) (3.1.0)\n",
            "Requirement already satisfied: scipy>=1.1.0 in /usr/local/lib/python3.8/dist-packages (from scikit-learn->underthesea) (1.7.3)\n",
            "Installing collected packages: underthesea-core, python-crfsuite, underthesea\n",
            "Successfully installed python-crfsuite-0.9.8 underthesea-6.0.1 underthesea-core-0.0.5a2\n"
          ]
        }
      ],
      "source": [
        "!pip -q install transformers\n",
        "!pip -q install vncorenlp\n",
        "!pip -q install fairseq\n",
        "!pip -q install fastBPE\n",
        "\n",
        "!pip -q install pyngrok\n",
        "!pip -q install pyyaml==5.4.1 \n",
        "!pip install underthesea"
      ]
    },
    {
      "cell_type": "markdown",
      "metadata": {
        "id": "AOCB9rvGy71q"
      },
      "source": [
        "## Download word segmenter"
      ]
    },
    {
      "cell_type": "code",
      "execution_count": 5,
      "metadata": {
        "colab": {
          "base_uri": "https://localhost:8080/"
        },
        "id": "R5Tv1mHCy_kF",
        "outputId": "f7868a99-8235-4107-fa0c-a3c4ab251cfd"
      },
      "outputs": [
        {
          "output_type": "stream",
          "name": "stdout",
          "text": [
            "VnCoreNLP-1.1.1.jar 100%[===================>]  26.14M  --.-KB/s    in 0.09s   \n",
            "vi-vocab            100%[===================>] 514.20K  --.-KB/s    in 0.01s   \n",
            "wordsegmenter.rdr   100%[===================>] 125.50K  --.-KB/s    in 0.008s  \n"
          ]
        }
      ],
      "source": [
        "!mkdir -p vncorenlp/models/wordsegmenter\n",
        "!wget -q --show-progress https://raw.githubusercontent.com/vncorenlp/VnCoreNLP/master/VnCoreNLP-1.1.1.jar\n",
        "!wget -q --show-progress https://raw.githubusercontent.com/vncorenlp/VnCoreNLP/master/models/wordsegmenter/vi-vocab\n",
        "!wget -q --show-progress https://raw.githubusercontent.com/vncorenlp/VnCoreNLP/master/models/wordsegmenter/wordsegmenter.rdr\n",
        "!mv VnCoreNLP-1.1.1.jar vncorenlp/ \n",
        "!mv vi-vocab vncorenlp/models/wordsegmenter/\n",
        "!mv wordsegmenter.rdr vncorenlp/models/wordsegmenter/"
      ]
    },
    {
      "cell_type": "markdown",
      "metadata": {
        "id": "eEmNBMmNzDRC"
      },
      "source": [
        "## Install Vietnamese SBERT"
      ]
    },
    {
      "cell_type": "code",
      "execution_count": 6,
      "metadata": {
        "colab": {
          "base_uri": "https://localhost:8080/"
        },
        "id": "9E9lNCnqzGLc",
        "outputId": "f70e5576-8109-41ff-b9a6-2569661553af"
      },
      "outputs": [
        {
          "output_type": "stream",
          "name": "stdout",
          "text": [
            "Cloning into 'sentence-transformers'...\n",
            "remote: Enumerating objects: 1200, done.\u001b[K\n",
            "remote: Total 1200 (delta 0), reused 0 (delta 0), pack-reused 1200\u001b[K\n",
            "Receiving objects: 100% (1200/1200), 30.67 MiB | 4.98 MiB/s, done.\n",
            "Resolving deltas: 100% (820/820), done.\n",
            "Looking in indexes: https://pypi.org/simple, https://us-python.pkg.dev/colab-wheels/public/simple/\n",
            "Obtaining file:///content/sentence-transformers\n",
            "  Preparing metadata (setup.py) ... \u001b[?25l\u001b[?25hdone\n",
            "Collecting transformers>=2.8.0\n",
            "  Using cached transformers-4.25.1-py3-none-any.whl (5.8 MB)\n",
            "Requirement already satisfied: tqdm in /usr/local/lib/python3.8/dist-packages (from sentence-transformers==0.2.6.1) (4.64.1)\n",
            "Requirement already satisfied: torch>=1.0.1 in /usr/local/lib/python3.8/dist-packages (from sentence-transformers==0.2.6.1) (1.13.0+cu116)\n",
            "Requirement already satisfied: numpy in /usr/local/lib/python3.8/dist-packages (from sentence-transformers==0.2.6.1) (1.21.6)\n",
            "Requirement already satisfied: scikit-learn in /usr/local/lib/python3.8/dist-packages (from sentence-transformers==0.2.6.1) (1.0.2)\n",
            "Requirement already satisfied: scipy in /usr/local/lib/python3.8/dist-packages (from sentence-transformers==0.2.6.1) (1.7.3)\n",
            "Requirement already satisfied: nltk in /usr/local/lib/python3.8/dist-packages (from sentence-transformers==0.2.6.1) (3.7)\n",
            "Requirement already satisfied: typing-extensions in /usr/local/lib/python3.8/dist-packages (from torch>=1.0.1->sentence-transformers==0.2.6.1) (4.4.0)\n",
            "Collecting huggingface-hub<1.0,>=0.10.0\n",
            "  Using cached huggingface_hub-0.11.1-py3-none-any.whl (182 kB)\n",
            "Requirement already satisfied: pyyaml>=5.1 in /usr/local/lib/python3.8/dist-packages (from transformers>=2.8.0->sentence-transformers==0.2.6.1) (5.4.1)\n",
            "Requirement already satisfied: regex!=2019.12.17 in /usr/local/lib/python3.8/dist-packages (from transformers>=2.8.0->sentence-transformers==0.2.6.1) (2022.6.2)\n",
            "Requirement already satisfied: requests in /usr/local/lib/python3.8/dist-packages (from transformers>=2.8.0->sentence-transformers==0.2.6.1) (2.25.1)\n",
            "Requirement already satisfied: filelock in /usr/local/lib/python3.8/dist-packages (from transformers>=2.8.0->sentence-transformers==0.2.6.1) (3.8.2)\n",
            "Collecting tokenizers!=0.11.3,<0.14,>=0.11.1\n",
            "  Using cached tokenizers-0.13.2-cp38-cp38-manylinux_2_17_x86_64.manylinux2014_x86_64.whl (7.6 MB)\n",
            "Requirement already satisfied: packaging>=20.0 in /usr/local/lib/python3.8/dist-packages (from transformers>=2.8.0->sentence-transformers==0.2.6.1) (21.3)\n",
            "Requirement already satisfied: click in /usr/local/lib/python3.8/dist-packages (from nltk->sentence-transformers==0.2.6.1) (7.1.2)\n",
            "Requirement already satisfied: joblib in /usr/local/lib/python3.8/dist-packages (from nltk->sentence-transformers==0.2.6.1) (1.2.0)\n",
            "Requirement already satisfied: threadpoolctl>=2.0.0 in /usr/local/lib/python3.8/dist-packages (from scikit-learn->sentence-transformers==0.2.6.1) (3.1.0)\n",
            "Requirement already satisfied: pyparsing!=3.0.5,>=2.0.2 in /usr/local/lib/python3.8/dist-packages (from packaging>=20.0->transformers>=2.8.0->sentence-transformers==0.2.6.1) (3.0.9)\n",
            "Requirement already satisfied: chardet<5,>=3.0.2 in /usr/local/lib/python3.8/dist-packages (from requests->transformers>=2.8.0->sentence-transformers==0.2.6.1) (4.0.0)\n",
            "Requirement already satisfied: idna<3,>=2.5 in /usr/local/lib/python3.8/dist-packages (from requests->transformers>=2.8.0->sentence-transformers==0.2.6.1) (2.10)\n",
            "Requirement already satisfied: certifi>=2017.4.17 in /usr/local/lib/python3.8/dist-packages (from requests->transformers>=2.8.0->sentence-transformers==0.2.6.1) (2022.12.7)\n",
            "Requirement already satisfied: urllib3<1.27,>=1.21.1 in /usr/local/lib/python3.8/dist-packages (from requests->transformers>=2.8.0->sentence-transformers==0.2.6.1) (1.24.3)\n",
            "Installing collected packages: tokenizers, huggingface-hub, transformers, sentence-transformers\n",
            "  Running setup.py develop for sentence-transformers\n",
            "Successfully installed huggingface-hub-0.11.1 sentence-transformers-0.2.6.1 tokenizers-0.13.2 transformers-4.25.1\n"
          ]
        }
      ],
      "source": [
        "!git clone https://github.com/DatCanCode/sentence-transformers\n",
        "!cd sentence-transformers; pip install -e ."
      ]
    },
    {
      "cell_type": "markdown",
      "metadata": {
        "id": "26B_p1feztaj"
      },
      "source": [
        "# Demo in notebook"
      ]
    },
    {
      "cell_type": "markdown",
      "metadata": {
        "id": "13_p4wbMQT7W"
      },
      "source": [
        "Import and load model"
      ]
    },
    {
      "cell_type": "code",
      "execution_count": 7,
      "metadata": {
        "id": "T5cWRLMh3v7x"
      },
      "outputs": [],
      "source": [
        "from vncorenlp import VnCoreNLP"
      ]
    },
    {
      "cell_type": "code",
      "execution_count": 8,
      "metadata": {
        "colab": {
          "base_uri": "https://localhost:8080/"
        },
        "id": "bBa-9p0CQee9",
        "outputId": "25ab08da-6f8d-470e-eafd-8ccca5a429a9"
      },
      "outputs": [
        {
          "output_type": "stream",
          "name": "stdout",
          "text": [
            "/content/sentence-transformers\n"
          ]
        }
      ],
      "source": [
        "%cd /content/sentence-transformers/\n",
        "from sentence_transformers import SentenceTransformer\n",
        "import numpy as np\n",
        "model = SentenceTransformer('/content/vn_sbert_deploy/phobert_base_mean_tokens_NLI_STS')"
      ]
    },
    {
      "cell_type": "markdown",
      "metadata": {
        "id": "f3wav6UBQNPk"
      },
      "source": [
        "## Get sentence embeddings"
      ]
    },
    {
      "cell_type": "code",
      "execution_count": 9,
      "metadata": {
        "colab": {
          "base_uri": "https://localhost:8080/",
          "height": 658
        },
        "id": "8jhcGuO6nkdK",
        "outputId": "243efd53-c082-4226-a014-457fb263a02c"
      },
      "outputs": [
        {
          "output_type": "execute_result",
          "data": {
            "text/plain": [
              "     Unnamed: 0                                           Document  \\\n",
              "0             0  Mới đây, vụ việc giữa Shark Bình, diễn viên Ph...   \n",
              "1             1  Ngày 21.7 âm lịch năm 2021. Trong Bệnh viện Dã...   \n",
              "2             2  Chiều 26.8, Phương Oanh xác nhận đang hẹn hò v...   \n",
              "3             3  Chương trình hỗ trợ tiêu thụ vải ở vùng dịch B...   \n",
              "4             4  Mới đây, Công an H.Bình Tân (Vĩnh Long) đã ra ...   \n",
              "..          ...                                                ...   \n",
              "297         297  Ngày 16.2, Công an H.Hòa Vang (TP.Đà Nẵng) di ...   \n",
              "298         298  Ngày 22.2, trò chuyện với PV Thanh Niên, Trần ...   \n",
              "299         299  Phía sau clip ngắn trên là câu chuyện xúc động...   \n",
              "300         300  Ngày 21.2, trên mạng xã hội facebook xuất hiện...   \n",
              "301         301  Thông tin trên mạng xã hội chia sẻ thêm, nam s...   \n",
              "\n",
              "                                             Summarize  \\\n",
              "0    Phía Shark Bình khẳng định ông có thỏa thuận l...   \n",
              "1    Ngày 18.8 (tức 21.7 âm lịch) – đúng 1 năm trướ...   \n",
              "2    Trao đổi với Thanh Niên, Shark Bình nói tình t...   \n",
              "3    Sáng 3.6, những container vải thiều do Hội Doa...   \n",
              "4    Câu chuyện chồng chạy két sắt của vợ trộm tiền...   \n",
              "..                                                 ...   \n",
              "297  Sau thời gian chung sống như vợ chồng với chị ...   \n",
              "298  Sau khi ly hôn với người chồng Nhật Bản, người...   \n",
              "299  Hình ảnh cậu bé 5 tuổi òa khóc nức nở khi thấy...   \n",
              "300  Clip ghi cảnh một công ty bất động sản dựng rạ...   \n",
              "301  Khuya 21.2, mạng xã hội Facebook xôn xao trước...   \n",
              "\n",
              "                                                   URL  \n",
              "0    https://thanhnien.vn/tu-vu-shark-binh-ly-hon-m...  \n",
              "1    https://thanhnien.vn/hom-nay-dai-le-cau-sieu-d...  \n",
              "2    https://thanhnien.vn/shark-binh-ban-trai-dien-...  \n",
              "3    https://thanhnien.vn/hoi-doanh-nhan-tre-da-nan...  \n",
              "4    https://thanhnien.vn/vu-khoi-to-chong-lay-tien...  \n",
              "..                                                 ...  \n",
              "297  https://thanhnien.vn/da-nang-bat-ke-lua-tien-v...  \n",
              "298  https://thanhnien.vn/ly-hon-nguoi-chong-nhat-c...  \n",
              "299  https://thanhnien.vn/rung-rung-voi-clip-cau-be...  \n",
              "300  https://thanhnien.vn/binh-phuoc-xon-xao-clip-c...  \n",
              "301  https://thanhnien.vn/ke-cuop-dot-nhap-ktx-dh-q...  \n",
              "\n",
              "[302 rows x 4 columns]"
            ],
            "text/html": [
              "\n",
              "  <div id=\"df-223fae6c-a17a-4388-89c6-638b87e3cd18\">\n",
              "    <div class=\"colab-df-container\">\n",
              "      <div>\n",
              "<style scoped>\n",
              "    .dataframe tbody tr th:only-of-type {\n",
              "        vertical-align: middle;\n",
              "    }\n",
              "\n",
              "    .dataframe tbody tr th {\n",
              "        vertical-align: top;\n",
              "    }\n",
              "\n",
              "    .dataframe thead th {\n",
              "        text-align: right;\n",
              "    }\n",
              "</style>\n",
              "<table border=\"1\" class=\"dataframe\">\n",
              "  <thead>\n",
              "    <tr style=\"text-align: right;\">\n",
              "      <th></th>\n",
              "      <th>Unnamed: 0</th>\n",
              "      <th>Document</th>\n",
              "      <th>Summarize</th>\n",
              "      <th>URL</th>\n",
              "    </tr>\n",
              "  </thead>\n",
              "  <tbody>\n",
              "    <tr>\n",
              "      <th>0</th>\n",
              "      <td>0</td>\n",
              "      <td>Mới đây, vụ việc giữa Shark Bình, diễn viên Ph...</td>\n",
              "      <td>Phía Shark Bình khẳng định ông có thỏa thuận l...</td>\n",
              "      <td>https://thanhnien.vn/tu-vu-shark-binh-ly-hon-m...</td>\n",
              "    </tr>\n",
              "    <tr>\n",
              "      <th>1</th>\n",
              "      <td>1</td>\n",
              "      <td>Ngày 21.7 âm lịch năm 2021. Trong Bệnh viện Dã...</td>\n",
              "      <td>Ngày 18.8 (tức 21.7 âm lịch) – đúng 1 năm trướ...</td>\n",
              "      <td>https://thanhnien.vn/hom-nay-dai-le-cau-sieu-d...</td>\n",
              "    </tr>\n",
              "    <tr>\n",
              "      <th>2</th>\n",
              "      <td>2</td>\n",
              "      <td>Chiều 26.8, Phương Oanh xác nhận đang hẹn hò v...</td>\n",
              "      <td>Trao đổi với Thanh Niên, Shark Bình nói tình t...</td>\n",
              "      <td>https://thanhnien.vn/shark-binh-ban-trai-dien-...</td>\n",
              "    </tr>\n",
              "    <tr>\n",
              "      <th>3</th>\n",
              "      <td>3</td>\n",
              "      <td>Chương trình hỗ trợ tiêu thụ vải ở vùng dịch B...</td>\n",
              "      <td>Sáng 3.6, những container vải thiều do Hội Doa...</td>\n",
              "      <td>https://thanhnien.vn/hoi-doanh-nhan-tre-da-nan...</td>\n",
              "    </tr>\n",
              "    <tr>\n",
              "      <th>4</th>\n",
              "      <td>4</td>\n",
              "      <td>Mới đây, Công an H.Bình Tân (Vĩnh Long) đã ra ...</td>\n",
              "      <td>Câu chuyện chồng chạy két sắt của vợ trộm tiền...</td>\n",
              "      <td>https://thanhnien.vn/vu-khoi-to-chong-lay-tien...</td>\n",
              "    </tr>\n",
              "    <tr>\n",
              "      <th>...</th>\n",
              "      <td>...</td>\n",
              "      <td>...</td>\n",
              "      <td>...</td>\n",
              "      <td>...</td>\n",
              "    </tr>\n",
              "    <tr>\n",
              "      <th>297</th>\n",
              "      <td>297</td>\n",
              "      <td>Ngày 16.2, Công an H.Hòa Vang (TP.Đà Nẵng) di ...</td>\n",
              "      <td>Sau thời gian chung sống như vợ chồng với chị ...</td>\n",
              "      <td>https://thanhnien.vn/da-nang-bat-ke-lua-tien-v...</td>\n",
              "    </tr>\n",
              "    <tr>\n",
              "      <th>298</th>\n",
              "      <td>298</td>\n",
              "      <td>Ngày 22.2, trò chuyện với PV Thanh Niên, Trần ...</td>\n",
              "      <td>Sau khi ly hôn với người chồng Nhật Bản, người...</td>\n",
              "      <td>https://thanhnien.vn/ly-hon-nguoi-chong-nhat-c...</td>\n",
              "    </tr>\n",
              "    <tr>\n",
              "      <th>299</th>\n",
              "      <td>299</td>\n",
              "      <td>Phía sau clip ngắn trên là câu chuyện xúc động...</td>\n",
              "      <td>Hình ảnh cậu bé 5 tuổi òa khóc nức nở khi thấy...</td>\n",
              "      <td>https://thanhnien.vn/rung-rung-voi-clip-cau-be...</td>\n",
              "    </tr>\n",
              "    <tr>\n",
              "      <th>300</th>\n",
              "      <td>300</td>\n",
              "      <td>Ngày 21.2, trên mạng xã hội facebook xuất hiện...</td>\n",
              "      <td>Clip ghi cảnh một công ty bất động sản dựng rạ...</td>\n",
              "      <td>https://thanhnien.vn/binh-phuoc-xon-xao-clip-c...</td>\n",
              "    </tr>\n",
              "    <tr>\n",
              "      <th>301</th>\n",
              "      <td>301</td>\n",
              "      <td>Thông tin trên mạng xã hội chia sẻ thêm, nam s...</td>\n",
              "      <td>Khuya 21.2, mạng xã hội Facebook xôn xao trước...</td>\n",
              "      <td>https://thanhnien.vn/ke-cuop-dot-nhap-ktx-dh-q...</td>\n",
              "    </tr>\n",
              "  </tbody>\n",
              "</table>\n",
              "<p>302 rows × 4 columns</p>\n",
              "</div>\n",
              "      <button class=\"colab-df-convert\" onclick=\"convertToInteractive('df-223fae6c-a17a-4388-89c6-638b87e3cd18')\"\n",
              "              title=\"Convert this dataframe to an interactive table.\"\n",
              "              style=\"display:none;\">\n",
              "        \n",
              "  <svg xmlns=\"http://www.w3.org/2000/svg\" height=\"24px\"viewBox=\"0 0 24 24\"\n",
              "       width=\"24px\">\n",
              "    <path d=\"M0 0h24v24H0V0z\" fill=\"none\"/>\n",
              "    <path d=\"M18.56 5.44l.94 2.06.94-2.06 2.06-.94-2.06-.94-.94-2.06-.94 2.06-2.06.94zm-11 1L8.5 8.5l.94-2.06 2.06-.94-2.06-.94L8.5 2.5l-.94 2.06-2.06.94zm10 10l.94 2.06.94-2.06 2.06-.94-2.06-.94-.94-2.06-.94 2.06-2.06.94z\"/><path d=\"M17.41 7.96l-1.37-1.37c-.4-.4-.92-.59-1.43-.59-.52 0-1.04.2-1.43.59L10.3 9.45l-7.72 7.72c-.78.78-.78 2.05 0 2.83L4 21.41c.39.39.9.59 1.41.59.51 0 1.02-.2 1.41-.59l7.78-7.78 2.81-2.81c.8-.78.8-2.07 0-2.86zM5.41 20L4 18.59l7.72-7.72 1.47 1.35L5.41 20z\"/>\n",
              "  </svg>\n",
              "      </button>\n",
              "      \n",
              "  <style>\n",
              "    .colab-df-container {\n",
              "      display:flex;\n",
              "      flex-wrap:wrap;\n",
              "      gap: 12px;\n",
              "    }\n",
              "\n",
              "    .colab-df-convert {\n",
              "      background-color: #E8F0FE;\n",
              "      border: none;\n",
              "      border-radius: 50%;\n",
              "      cursor: pointer;\n",
              "      display: none;\n",
              "      fill: #1967D2;\n",
              "      height: 32px;\n",
              "      padding: 0 0 0 0;\n",
              "      width: 32px;\n",
              "    }\n",
              "\n",
              "    .colab-df-convert:hover {\n",
              "      background-color: #E2EBFA;\n",
              "      box-shadow: 0px 1px 2px rgba(60, 64, 67, 0.3), 0px 1px 3px 1px rgba(60, 64, 67, 0.15);\n",
              "      fill: #174EA6;\n",
              "    }\n",
              "\n",
              "    [theme=dark] .colab-df-convert {\n",
              "      background-color: #3B4455;\n",
              "      fill: #D2E3FC;\n",
              "    }\n",
              "\n",
              "    [theme=dark] .colab-df-convert:hover {\n",
              "      background-color: #434B5C;\n",
              "      box-shadow: 0px 1px 3px 1px rgba(0, 0, 0, 0.15);\n",
              "      filter: drop-shadow(0px 1px 2px rgba(0, 0, 0, 0.3));\n",
              "      fill: #FFFFFF;\n",
              "    }\n",
              "  </style>\n",
              "\n",
              "      <script>\n",
              "        const buttonEl =\n",
              "          document.querySelector('#df-223fae6c-a17a-4388-89c6-638b87e3cd18 button.colab-df-convert');\n",
              "        buttonEl.style.display =\n",
              "          google.colab.kernel.accessAllowed ? 'block' : 'none';\n",
              "\n",
              "        async function convertToInteractive(key) {\n",
              "          const element = document.querySelector('#df-223fae6c-a17a-4388-89c6-638b87e3cd18');\n",
              "          const dataTable =\n",
              "            await google.colab.kernel.invokeFunction('convertToInteractive',\n",
              "                                                     [key], {});\n",
              "          if (!dataTable) return;\n",
              "\n",
              "          const docLinkHtml = 'Like what you see? Visit the ' +\n",
              "            '<a target=\"_blank\" href=https://colab.research.google.com/notebooks/data_table.ipynb>data table notebook</a>'\n",
              "            + ' to learn more about interactive tables.';\n",
              "          element.innerHTML = '';\n",
              "          dataTable['output_type'] = 'display_data';\n",
              "          await google.colab.output.renderOutput(dataTable, element);\n",
              "          const docLink = document.createElement('div');\n",
              "          docLink.innerHTML = docLinkHtml;\n",
              "          element.appendChild(docLink);\n",
              "        }\n",
              "      </script>\n",
              "    </div>\n",
              "  </div>\n",
              "  "
            ]
          },
          "metadata": {},
          "execution_count": 9
        }
      ],
      "source": [
        "import pandas as pd\n",
        "\n",
        "data = pd.read_csv(\"/content/newpaper.csv\")\n",
        "\n",
        "data\n"
      ]
    },
    {
      "cell_type": "markdown",
      "metadata": {
        "id": "oI0Tx2m_4HQL"
      },
      "source": [
        "# Run program"
      ]
    },
    {
      "cell_type": "code",
      "execution_count": 10,
      "metadata": {
        "id": "E55PmkxmCgbR"
      },
      "outputs": [],
      "source": [
        "from underthesea import word_tokenize, sent_tokenize\n",
        "from sklearn.metrics.pairwise import cosine_similarity\n",
        "\n",
        "\n",
        "base_document = data['Document'][0]\n",
        "documents = list(data['Document'][:150])\n",
        "\n",
        "\n",
        "def process_phobert_similarity():\n",
        "\t# This will download and load the pretrained model offered by UKPLab.\n",
        "\tmodel = SentenceTransformer('/content/vn_sbert_deploy/phobert_base_mean_tokens_NLI_STS')\n",
        "\n",
        "\t# Although it is not explicitly stated in the official document of sentence transformer, the original BERT is meant for a shorter sentence. We will feed the model by sentences instead of the whole documents.\n",
        "\tsentences = sent_tokenize(base_document)\n",
        "\tbase_embeddings_sentences = model.encode(sentences)\n",
        "\tbase_embeddings = np.mean(np.array(base_embeddings_sentences), axis=0)\n",
        "\t\n",
        "\tresult = []\n",
        "\tvectors = []\n",
        "\tfor i, document in enumerate(documents):\n",
        "\n",
        "\t\tsentences = sent_tokenize(document)\n",
        "\t\tembeddings_sentences = model.encode(sentences)\n",
        "\t\tembeddings = np.mean(np.array(embeddings_sentences), axis=0)\n",
        "\n",
        "\t\tvectors.append(embeddings)\n",
        "\n",
        "\tscores = cosine_similarity([base_embeddings], vectors).flatten()\n",
        "\t\n",
        "\tresult = []\n",
        "\tfor i in range(len(scores)):\n",
        "\t\tresult.append({'index': i, 'score': scores[i]})\n",
        "\n",
        "\t#Sort scores in decreasing order\n",
        "\tresult = sorted(result, key=lambda x: x['score'], reverse=True)\n",
        "\tprint(list(result))\n",
        "\treturn list(result)"
      ]
    },
    {
      "cell_type": "code",
      "execution_count": 11,
      "metadata": {
        "id": "EfyUDm5As8kP",
        "colab": {
          "base_uri": "https://localhost:8080/"
        },
        "outputId": "7f5d2fcc-5cbb-48a9-eefc-0d5805d67883"
      },
      "outputs": [
        {
          "output_type": "stream",
          "name": "stdout",
          "text": [
            "[{'index': 0, 'score': 0.9999999}, {'index': 2, 'score': 0.7872037}, {'index': 66, 'score': 0.7427565}, {'index': 26, 'score': 0.7151493}, {'index': 50, 'score': 0.7149129}, {'index': 17, 'score': 0.7077005}, {'index': 75, 'score': 0.703776}, {'index': 4, 'score': 0.6879018}, {'index': 124, 'score': 0.68120617}, {'index': 45, 'score': 0.6765396}, {'index': 57, 'score': 0.67575663}, {'index': 5, 'score': 0.6710153}, {'index': 132, 'score': 0.67026114}, {'index': 16, 'score': 0.65724754}, {'index': 131, 'score': 0.65480685}, {'index': 89, 'score': 0.6515563}, {'index': 121, 'score': 0.6476798}, {'index': 120, 'score': 0.6466824}, {'index': 40, 'score': 0.62601185}, {'index': 8, 'score': 0.6241826}, {'index': 86, 'score': 0.6241826}, {'index': 125, 'score': 0.6232742}, {'index': 35, 'score': 0.61881155}, {'index': 36, 'score': 0.59473914}, {'index': 107, 'score': 0.58612496}, {'index': 90, 'score': 0.58376276}, {'index': 37, 'score': 0.58264554}, {'index': 83, 'score': 0.57778907}, {'index': 87, 'score': 0.57059085}, {'index': 51, 'score': 0.5675615}, {'index': 143, 'score': 0.5673132}, {'index': 1, 'score': 0.55201566}, {'index': 116, 'score': 0.54579806}, {'index': 88, 'score': 0.5447136}, {'index': 93, 'score': 0.5335932}, {'index': 7, 'score': 0.533116}, {'index': 31, 'score': 0.53113604}, {'index': 39, 'score': 0.52921987}, {'index': 18, 'score': 0.5174248}, {'index': 94, 'score': 0.51660204}, {'index': 54, 'score': 0.51544356}, {'index': 41, 'score': 0.51298237}, {'index': 23, 'score': 0.50950396}, {'index': 46, 'score': 0.50947917}, {'index': 43, 'score': 0.50877947}, {'index': 144, 'score': 0.4997378}, {'index': 118, 'score': 0.49825525}, {'index': 78, 'score': 0.4975753}, {'index': 60, 'score': 0.49659306}, {'index': 74, 'score': 0.4939407}, {'index': 69, 'score': 0.49295288}, {'index': 138, 'score': 0.49263257}, {'index': 44, 'score': 0.48852593}, {'index': 76, 'score': 0.4859603}, {'index': 119, 'score': 0.4836678}, {'index': 81, 'score': 0.48318595}, {'index': 47, 'score': 0.4620546}, {'index': 48, 'score': 0.4620546}, {'index': 49, 'score': 0.4620546}, {'index': 58, 'score': 0.4620546}, {'index': 134, 'score': 0.46086955}, {'index': 29, 'score': 0.45947975}, {'index': 133, 'score': 0.45540792}, {'index': 42, 'score': 0.44900844}, {'index': 67, 'score': 0.4473511}, {'index': 95, 'score': 0.44513845}, {'index': 59, 'score': 0.4398554}, {'index': 92, 'score': 0.4386915}, {'index': 135, 'score': 0.43287447}, {'index': 136, 'score': 0.43193778}, {'index': 82, 'score': 0.4266781}, {'index': 20, 'score': 0.42517737}, {'index': 72, 'score': 0.42320833}, {'index': 52, 'score': 0.419707}, {'index': 61, 'score': 0.41506624}, {'index': 56, 'score': 0.41423482}, {'index': 80, 'score': 0.41392586}, {'index': 19, 'score': 0.4130359}, {'index': 147, 'score': 0.41194147}, {'index': 63, 'score': 0.40991986}, {'index': 9, 'score': 0.40984562}, {'index': 79, 'score': 0.4026777}, {'index': 6, 'score': 0.40175748}, {'index': 115, 'score': 0.39803612}, {'index': 105, 'score': 0.3942303}, {'index': 77, 'score': 0.3934421}, {'index': 145, 'score': 0.39034384}, {'index': 25, 'score': 0.3898838}, {'index': 65, 'score': 0.3866042}, {'index': 127, 'score': 0.3863466}, {'index': 91, 'score': 0.38480312}, {'index': 55, 'score': 0.3786496}, {'index': 123, 'score': 0.3771521}, {'index': 113, 'score': 0.37690714}, {'index': 129, 'score': 0.3758782}, {'index': 62, 'score': 0.37218642}, {'index': 14, 'score': 0.36674076}, {'index': 122, 'score': 0.36590123}, {'index': 139, 'score': 0.36260086}, {'index': 137, 'score': 0.361918}, {'index': 142, 'score': 0.361918}, {'index': 21, 'score': 0.35637861}, {'index': 33, 'score': 0.35242158}, {'index': 38, 'score': 0.35072973}, {'index': 140, 'score': 0.35013744}, {'index': 22, 'score': 0.35000712}, {'index': 130, 'score': 0.3444582}, {'index': 111, 'score': 0.33964497}, {'index': 34, 'score': 0.3372001}, {'index': 141, 'score': 0.33411306}, {'index': 149, 'score': 0.33175975}, {'index': 146, 'score': 0.3291399}, {'index': 103, 'score': 0.3247567}, {'index': 68, 'score': 0.32452905}, {'index': 117, 'score': 0.3188153}, {'index': 100, 'score': 0.31752732}, {'index': 112, 'score': 0.31491444}, {'index': 13, 'score': 0.31343657}, {'index': 102, 'score': 0.31158274}, {'index': 97, 'score': 0.309529}, {'index': 27, 'score': 0.30912855}, {'index': 10, 'score': 0.30815715}, {'index': 84, 'score': 0.30411166}, {'index': 128, 'score': 0.30223888}, {'index': 98, 'score': 0.30072302}, {'index': 106, 'score': 0.3004173}, {'index': 24, 'score': 0.2990331}, {'index': 28, 'score': 0.29709363}, {'index': 114, 'score': 0.29362747}, {'index': 110, 'score': 0.2921573}, {'index': 11, 'score': 0.29199106}, {'index': 64, 'score': 0.2882118}, {'index': 101, 'score': 0.28778356}, {'index': 108, 'score': 0.28575873}, {'index': 99, 'score': 0.28480417}, {'index': 30, 'score': 0.28176838}, {'index': 96, 'score': 0.27767795}, {'index': 12, 'score': 0.27598548}, {'index': 70, 'score': 0.27210417}, {'index': 73, 'score': 0.2698163}, {'index': 32, 'score': 0.2652688}, {'index': 109, 'score': 0.2649321}, {'index': 126, 'score': 0.26426846}, {'index': 71, 'score': 0.2618407}, {'index': 104, 'score': 0.25395194}, {'index': 3, 'score': 0.24861413}, {'index': 15, 'score': 0.24860618}, {'index': 53, 'score': 0.24846314}, {'index': 148, 'score': 0.24081987}, {'index': 85, 'score': 0.23192066}]\n"
          ]
        }
      ],
      "source": [
        "result = process_phobert_similarity()"
      ]
    }
  ],
  "metadata": {
    "accelerator": "GPU",
    "colab": {
      "provenance": []
    },
    "gpuClass": "standard",
    "kernelspec": {
      "display_name": "Python 3",
      "name": "python3"
    }
  },
  "nbformat": 4,
  "nbformat_minor": 0
}